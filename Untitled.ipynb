{
 "cells": [
  {
   "cell_type": "code",
   "execution_count": 1,
   "id": "a503452a",
   "metadata": {},
   "outputs": [],
   "source": [
    "import numpy as np\n",
    "import pandas as pd"
   ]
  },
  {
   "cell_type": "code",
   "execution_count": 2,
   "id": "7e42f603",
   "metadata": {
    "scrolled": true
   },
   "outputs": [],
   "source": [
    "df = pd.read_csv('Apr28_2021.csv')"
   ]
  },
  {
   "cell_type": "code",
   "execution_count": 3,
   "id": "ad08148e",
   "metadata": {},
   "outputs": [],
   "source": [
    "df['img'] = df['img-link']\n",
    "df = df[['Name','Link','Genre','img']]"
   ]
  },
  {
   "cell_type": "code",
   "execution_count": 4,
   "id": "9633ac4e",
   "metadata": {},
   "outputs": [],
   "source": [
    "df = df.dropna()\n",
    "df = df[:14600]"
   ]
  },
  {
   "cell_type": "code",
   "execution_count": 5,
   "id": "e5ba1487",
   "metadata": {},
   "outputs": [],
   "source": [
    "df['Genre'] = df['Genre'].apply(lambda x:x.replace(\",\",\" \"))"
   ]
  },
  {
   "cell_type": "code",
   "execution_count": 6,
   "id": "58114543",
   "metadata": {},
   "outputs": [],
   "source": [
    "from sklearn.feature_extraction.text import CountVectorizer\n",
    "cv = CountVectorizer(max_features=5000,stop_words='english')\n",
    "vector = cv.fit_transform(df['Genre']).toarray()\n",
    "from sklearn.metrics.pairwise import cosine_similarity\n",
    "similarity = cosine_similarity(vector)"
   ]
  },
  {
   "cell_type": "code",
   "execution_count": 7,
   "id": "52cfada0",
   "metadata": {},
   "outputs": [],
   "source": [
    "def recommend(manga):\n",
    "    index = df[df['Name'] == manga].index[0]\n",
    "    distances = sorted(list(enumerate(similarity[index])),reverse=True,key = lambda x: x[1])\n",
    "    for i in distances[1:6]:\n",
    "        print(df.iloc[i[0]].Name)"
   ]
  },
  {
   "cell_type": "code",
   "execution_count": 8,
   "id": "cacf7f84",
   "metadata": {
    "scrolled": false
   },
   "outputs": [
    {
     "name": "stdout",
     "output_type": "stream",
     "text": [
      "Black Winter\n",
      "A Beauty, A Fatal Concubine\n",
      "The Princess Of Vengeance\n",
      "All Colors Of Snow\n",
      "A Capable Maid\n"
     ]
    }
   ],
   "source": [
    "recommend('Drop-Dead Beauty')"
   ]
  },
  {
   "cell_type": "code",
   "execution_count": 10,
   "id": "e89e9f09",
   "metadata": {},
   "outputs": [],
   "source": [
    "import pickle\n",
    "pickle.dump(df,open('manga.pkl','wb'))\n",
    "for i in range(100,14601,100):\n",
    "    nam = \"s\" + str(i) + \".pkl\"\n",
    "    pickle.dump(similarity[i-100:i],open(nam,\"wb\"))"
   ]
  },
  {
   "cell_type": "code",
   "execution_count": 11,
   "id": "5054685f",
   "metadata": {},
   "outputs": [],
   "source": [
    "pickle.dump(similarity,open(\"abc.pkl\",\"wb\"))"
   ]
  }
 ],
 "metadata": {
  "kernelspec": {
   "display_name": "Python 3 (ipykernel)",
   "language": "python",
   "name": "python3"
  },
  "language_info": {
   "codemirror_mode": {
    "name": "ipython",
    "version": 3
   },
   "file_extension": ".py",
   "mimetype": "text/x-python",
   "name": "python",
   "nbconvert_exporter": "python",
   "pygments_lexer": "ipython3",
   "version": "3.9.7"
  }
 },
 "nbformat": 4,
 "nbformat_minor": 5
}
